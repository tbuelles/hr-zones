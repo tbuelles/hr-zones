{
 "cells": [
  {
   "cell_type": "code",
   "execution_count": null,
   "id": "84216c1a",
   "metadata": {},
   "outputs": [],
   "source": [
    "import requests\n",
    "import itertools\n",
    "import datetime as dt\n",
    "import json\n",
    "from pandas import Series, DataFrame\n",
    "import pandas as pd\n",
    "pd.set_option('display.max_rows', 1000)\n",
    "import numpy as np\n",
    "from ipywidgets import interact, interactive, interact_manual, IntSlider, fixed\n",
    "import matplotlib.pyplot as plt\n",
    "plt.rcParams['axes.spines.right'] = False\n",
    "plt.rcParams['axes.spines.top'] = False\n",
    "plt.rcParams['axes.grid'] = True\n",
    "from scipy.stats import binom"
   ]
  },
  {
   "cell_type": "code",
   "execution_count": null,
   "id": "d6388edd",
   "metadata": {},
   "outputs": [],
   "source": [
    "# Save config as local variables. Alternatively \"locals().update(config_dict)\" or, better, use config_dict.\n",
    "with open('../api/config.json', 'r') as f:\n",
    "    config_dict = json.load(f)\n",
    "    for key, val in config_dict.items():\n",
    "        if type(key) == str:\n",
    "            exec(key + '=val')"
   ]
  },
  {
   "cell_type": "code",
   "execution_count": null,
   "id": "a1dfd4f4",
   "metadata": {},
   "outputs": [],
   "source": [
    "# Utility functions\n",
    "\n",
    "def header(access_token):\n",
    "    return {\"Authorization\": \"Bearer \" + access_token}\n",
    "\n",
    "\n",
    "def get_stream(activity_id, access_token, key):\n",
    "    \"\"\"Returns stream of key as json.\n",
    "    key:'time', 'watts'\n",
    "    \"\"\"\n",
    "    res_url = activities_url + \"/\" + str(activity_id) + \"/streams/\" + key\n",
    "    res = requests.get(res_url, headers=header(access_token)).json()\n",
    "    res_dict = dict()\n",
    "    for item in res:\n",
    "        col = item.get('type')\n",
    "        val = item.get('data')\n",
    "        res_dict[col] = val\n",
    "    return DataFrame(res_dict)\n",
    "\n",
    "def get_hr_zones(df, bins=[0] + list(range(75, 185, 10)), labels=None):\n",
    "    \"\"\"Return DataFrame with heartrate -> hr_zones.\n",
    "    Data point every second\n",
    "    \"\"\"\n",
    "    labels = labels if labels else bins[1:]\n",
    "    df['hr_zones'] = pd.cut(x=df.heartrate, bins=bins, labels=labels)\n",
    "    df = df[['heartrate', 'hr_zones']]\n",
    "    return df\n",
    "\n",
    "def plot_hr_zones(ax, df):\n",
    "    \"\"\"df: DataFrame with columns=['heartrate', 'hr_zones'].\n",
    "    Data points every second. df could be one activity, or several ones.\n",
    "    Returns barplot.\n",
    "    \"\"\"\n",
    "    \n",
    "    grouped = df.groupby('hr_zones')\n",
    "    grouped_count = grouped.count() / 3600\n",
    "    total = grouped_count.sum()[0] # in hours\n",
    "    total_time = 'Total: ' + '{0:02.0f}h{1:02.0f}m'.format(*divmod(total * 60, 60))\n",
    "    zones = [str(x) for x in grouped_count['heartrate'].index]\n",
    "    hr = grouped_count['heartrate'].values\n",
    "    \n",
    "    # ax.set_xticks(zones)\n",
    "    pps = ax.bar(zones, hr)\n",
    "    ax.text(0.9, 0.9, total_time, transform=ax.transAxes, ha='right', va='top')\n",
    "    ax.set_xlabel('HR (bpm)', fontweight='bold')\n",
    "    ax.set_ylabel('Time (h)', fontweight='bold')\n",
    "    \n",
    "    # Add percentages\n",
    "    for p in pps:\n",
    "        height = p.get_height()\n",
    "        ax.text(x=p.get_x() + p.get_width() / 2, y=height * 1.05,\n",
    "                s=f'{height / total:.2%}', ha='center', va='bottom')\n",
    "    return ax\n",
    "\n",
    "def get_df(activity_id, access_token):\n",
    "    \"\"\"Returns Distance/Time/Watts\n",
    "    Note: get_stream returns list of 2 dictionaries. E.g.,\n",
    "    res is a list of 2 dictionaries: distance and time.\n",
    "    \"\"\"\n",
    "    res = get_stream(activity_id, access_token, key=\"time\")\n",
    "    res_watts = get_stream(activity_id, access_token, key=\"watts\")\n",
    "    res_heartrate = get_stream(activity_id, access_token, key=\"heartrate\")\n",
    "    for row in res_watts:\n",
    "        if row.get(\"type\",0) == \"watts\":\n",
    "            res.append(row)\n",
    "            break\n",
    "    for row in res_heartrate:\n",
    "        if row.get(\"type\",0) == \"heartrate\":\n",
    "            res.append(row)\n",
    "            break\n",
    "    df = pd.DataFrame(res)\n",
    "    return df"
   ]
  },
  {
   "cell_type": "code",
   "execution_count": null,
   "id": "6077019a",
   "metadata": {},
   "outputs": [],
   "source": [
    "# Refresh access_token. Something here is redundant. Still works.\n",
    "result = requests.post(oauth_url, {'client_id':CLIENT_ID,\n",
    "                          'client_secret':CLIENT_SECRET,\n",
    "                         'code':refresh_token,\n",
    "                         'grant_type':'refresh_token',\n",
    "                                  'refresh_token':refresh_token}).json()\n",
    "access_token = result.get('access_token')"
   ]
  },
  {
   "cell_type": "code",
   "execution_count": null,
   "id": "0581c1fa",
   "metadata": {},
   "outputs": [],
   "source": [
    "# Test\n",
    "athlete_info = requests.get(athlete_url, {'access_token':access_token}).json()\n",
    "athlete_info"
   ]
  },
  {
   "cell_type": "code",
   "execution_count": null,
   "id": "ad0b24e2",
   "metadata": {},
   "outputs": [],
   "source": [
    "# Get all activities\n",
    "df = DataFrame()\n",
    "page = 1\n",
    "while True:\n",
    "    data = requests.get(athlete_url + '/activities', {'access_token':access_token,\n",
    "                                                         'page':page}).json()\n",
    "    if not data:\n",
    "        break\n",
    "        \n",
    "    df = pd.concat((df, DataFrame(data)))\n",
    "    page += 1\n",
    "    \n",
    "# Drop NA rows\n",
    "df = df.dropna(axis=0, how='all')"
   ]
  },
  {
   "cell_type": "code",
   "execution_count": null,
   "id": "981a6478",
   "metadata": {},
   "outputs": [],
   "source": [
    "# Add date, year, week\n",
    "def get_week(x):\n",
    "    week = x.isocalendar()[1]\n",
    "    if x.month == 1 and week == 52:\n",
    "        return 1\n",
    "    return week\n",
    "df['date'] = pd.to_datetime(df.start_date_local).dt.date\n",
    "df['year'] = df['date'].map(lambda x: x.year)\n",
    "df['week'] = df['date'].map(get_week)\n",
    "\n",
    "# Get Bike/ Run activities\n",
    "bike_run = df[df['type'].isin(['Ride', 'Run'])]\n",
    "cols = ['date', 'year', 'week', 'moving_time', 'type']\n",
    "bike_run = bike_run[cols]"
   ]
  },
  {
   "cell_type": "code",
   "execution_count": null,
   "id": "abb72928",
   "metadata": {},
   "outputs": [],
   "source": [
    "# Load from csv\n",
    "# df = pd.read_csv('data/2022-08-07.csv', index_col=0)"
   ]
  },
  {
   "cell_type": "code",
   "execution_count": null,
   "id": "29f3863a",
   "metadata": {},
   "outputs": [],
   "source": [
    "grouped = bike_run.groupby(['year', 'week'])\n",
    "summed = grouped.sum()\n",
    "years = [2020, 2021, 2022] \n",
    "volume = {}\n",
    "for year in years:\n",
    "    vol_year = summed.loc[year, :]\n",
    "    for x in range(1, 53):\n",
    "        if year != dt.date.today().year and not x in vol_year.index:\n",
    "            vol_year.loc[x,:] = 0\n",
    "            \n",
    "    vol_year.sort_index(inplace=True)\n",
    "    volume[year] = vol_year / 3600"
   ]
  },
  {
   "cell_type": "markdown",
   "id": "264a4583",
   "metadata": {},
   "source": [
    "## Rolling 7-day volumes"
   ]
  },
  {
   "cell_type": "code",
   "execution_count": null,
   "id": "4f0af104",
   "metadata": {},
   "outputs": [],
   "source": [
    "bike_run.sort_values(by='date', ascending=True, inplace=True)\n",
    "bike_run.reset_index(inplace=True, drop=True)"
   ]
  },
  {
   "cell_type": "code",
   "execution_count": null,
   "id": "a03c8d6d",
   "metadata": {},
   "outputs": [],
   "source": [
    "# Triangular moving average, window=(K, L)\n",
    "def tma(y, K, L):\n",
    "    return (K+L) * (y.rolling(K).mean()).rolling(L).mean()"
   ]
  },
  {
   "cell_type": "code",
   "execution_count": null,
   "id": "806664c8",
   "metadata": {},
   "outputs": [],
   "source": [
    "def weighted_ax(ax, K=4, L=3):\n",
    "    start=dt.date(2020, 10, 1)\n",
    "    end = bike_run['date'].max()\n",
    "    x = pd.date_range(start, end)\n",
    "    months = x[x.day == 1]\n",
    "    xticklabels = months.map(lambda x: f\"{x.month:02d}/{x.year}\")\n",
    "    # Daily training in seconds\n",
    "    training = Series([bike_run.loc[bike_run['date'] == day, 'moving_time'].sum()\\\n",
    "                for day in x])\n",
    "\n",
    "    # Hours\n",
    "    y = (training / 3600)\n",
    "    \n",
    "    # Triangular weighted\n",
    "    y_tma = tma(y, K, L)\n",
    "    N = K + L\n",
    "    \n",
    "    # Modify ax\n",
    "    ax.plot(x, y_tma, color='green',\n",
    "                     label=f'{N}-day TMA, window={(K,L)}')\n",
    "    \n",
    "    # Legend\n",
    "    ax.legend(fontsize=14)\n",
    "    \n",
    "    # Ticks, figure size\n",
    "    ax.set_xticks(months)\n",
    "    ax.set_xticklabels(xticklabels, fontsize=10)\n",
    "    ax.set_ylabel(f'{N}-day average (h)', fontsize=14, fontweight='bold')\n",
    "    return ax"
   ]
  },
  {
   "cell_type": "code",
   "execution_count": null,
   "id": "126dd6f6",
   "metadata": {},
   "outputs": [],
   "source": [
    "plt.ioff()\n",
    "%matplotlib qt\n",
    "fig, axs = plt.subplots(2, 1, sharex=True,\n",
    "                        figsize=(40, 10),\n",
    "                        constrained_layout=True)\n",
    "axs[0] = weighted_ax(axs[0], K=4, L=3)\n",
    "axs[1] = weighted_ax(axs[1], K=21, L=7)\n",
    "fig.suptitle('Bike/ Run', fontsize=24, fontweight='bold')\n",
    "fig.show()"
   ]
  },
  {
   "cell_type": "code",
   "execution_count": null,
   "id": "3266ae92",
   "metadata": {
    "scrolled": true
   },
   "outputs": [],
   "source": [
    "weeks = dict()\n",
    "for kw in [27, 28, 29, 30, 31, 32]:\n",
    "    week = df[(df.year == 2022) & (df.week == kw)]\n",
    "    week_df = DataFrame()\n",
    "    for activity_id in week.id:\n",
    "        act_df = get_stream(activity_id, access_token, 'heartrate')\n",
    "        week_df = pd.concat((week_df, act_df))\n",
    "    weeks[kw] = week_df"
   ]
  },
  {
   "cell_type": "code",
   "execution_count": null,
   "id": "679a7a3a",
   "metadata": {},
   "outputs": [],
   "source": [
    "bins = [0, 140, 160, 180]\n",
    "labels = [f'{bins[i]}-{bins[i+1]}' for i in range(len(bins)-1)]\n",
    "plot_hr_zones(get_hr_zones(pd.concat(weeks.values()), bins=bins, labels=labels))"
   ]
  },
  {
   "cell_type": "code",
   "execution_count": null,
   "id": "090f9349",
   "metadata": {},
   "outputs": [],
   "source": [
    "%matplotlib inline\n",
    "step = 20\n",
    "bins = [0] + list(range(70, 200, step))\n",
    "labels = [int(hr - step/2) for hr in bins[1:]]\n",
    "for kw in range(27,32):\n",
    "    fig, ax = plt.subplots()\n",
    "    ax = plot_hr_zones(ax, get_hr_zones(weeks[kw], bins=bins, labels=labels))\n",
    "    plt.show()"
   ]
  },
  {
   "cell_type": "code",
   "execution_count": null,
   "id": "13e62867",
   "metadata": {},
   "outputs": [],
   "source": [
    "%matplotlib qt\n",
    "fig, ax = plt.subplots(figsize=(20, 10))\n",
    "plt.rc('font', size=16)\n",
    "plt.rc('axes', labelsize=22)\n",
    "ax = plot_hr_zones(ax, get_hr_zones(pd.concat(weeks.values()), bins=bins, labels=labels))\n",
    "frame = 'Jul 4 - Aug 14\\n(6 weeks)'\n",
    "ax.text(0.1, 0.9, frame, transform=ax.transAxes, ha='left', va='top')\n",
    "plt.show()"
   ]
  },
  {
   "cell_type": "code",
   "execution_count": null,
   "id": "9979ad96",
   "metadata": {},
   "outputs": [],
   "source": []
  }
 ],
 "metadata": {
  "kernelspec": {
   "display_name": "Python 3 (ipykernel)",
   "language": "python",
   "name": "python3"
  },
  "language_info": {
   "codemirror_mode": {
    "name": "ipython",
    "version": 3
   },
   "file_extension": ".py",
   "mimetype": "text/x-python",
   "name": "python",
   "nbconvert_exporter": "python",
   "pygments_lexer": "ipython3",
   "version": "3.9.7"
  }
 },
 "nbformat": 4,
 "nbformat_minor": 5
}
